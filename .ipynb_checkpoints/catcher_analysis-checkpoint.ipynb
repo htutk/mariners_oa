{
 "cells": [
  {
   "cell_type": "markdown",
   "metadata": {},
   "source": [
    "## Analysis of catcher f06c9fdf"
   ]
  },
  {
   "cell_type": "markdown",
   "metadata": {},
   "source": [
    "This report analyzes the catcher's contribution to his past team and his effecitiveness in communicating with pitchers to throw efficient pitches."
   ]
  },
  {
   "cell_type": "markdown",
   "metadata": {},
   "source": [
    "First, we try to see how many pitches the catcher is involved in. That way, we can determine how long he has been in the league, or how experienced he is. From both test and train datasets, we can determine that the catcher catches `10998` different pitches. If we assume that the data records every single pitch in the game, we can calculate how many games he has played. Let's assume he played each game completely (all innings without being subbed out), then \n",
    "\n",
    "$$ number of games = \\frac{number of pitches}{average number of pitches per game} = \\frac{10998}{146*} = 75.33 $$\n",
    "###### *: [source](https://www.baseball-reference.com/blog/archives/7533.html)\n",
    "\n",
    "We can determine that he has played about half a season (given that the data records all the pitches)."
   ]
  },
  {
   "cell_type": "markdown",
   "metadata": {},
   "source": [
    "We can then look at the catcher's pairings with left and right-handed pitchers to see which picher_side he should be more accompanied with more often. Out of `10998` pitches, `7342`or `66.77%` or about two-thirds are from right-handed pitchers. This data does not necessarily portray a very meaningful value since it could be simply due to the ratio of right to left-handed pitchers he had played with before."
   ]
  },
  {
   "cell_type": "markdown",
   "metadata": {},
   "source": [
    "A summary of pitch types is given in the table below for both left and rigth handers:\n",
    "\n",
    "| pitch_type  | count (R) | count (L) |\n",
    "|---------------|---------|--------|\n",
    "| CH | 840 | 476 |\n",
    "| CU | 710 | 214 |\n",
    "| FA | 3104 | 1528 |\n",
    "| SL  | 1235 | 712 |\n",
    "| XX | 3 | N/A |\n",
    "| total | 5892 | 2930 |\n"
   ]
  },
  {
   "cell_type": "markdown",
   "metadata": {},
   "source": [
    "The fastball (FA) percent is almost identical around (52 percent) for both sides. However, curveball (CU) is significantly higher for right-handed pitchers whereas left-handed pitchers throw more sliders to the catcher.\n",
    "\n",
    "From here, we can determine that teh catcher can be paired with a right-handed pitcher who can throw curveball on a consistent basis due to his past experience. Left-handed pitchers like Hall-of-famer Randy Johnson who has killer sliders can also be paired with the catcher. "
   ]
  },
  {
   "cell_type": "markdown",
   "metadata": {},
   "source": [
    "We can now analyze the result of a pitch. This way, we can determine how the pitcher is able to help call efficient pitches to help the pitchers hit the strike-zone. The numbers are below:\n",
    "\n",
    "| pitch_call  | count (R) | count (L) |\n",
    "|---------------|---------|--------|\n",
    "| BallCalled | 2275 | 1176 |\n",
    "| FoulBall | 973 | 487 |\n",
    "| HitByPitch | 23 | 11 |\n",
    "| InPlay  | 1052 | 464 |\n",
    "| StrikeCalled | 905 | 476 |\n",
    "| StrikeSwinging | 664 | 316 |"
   ]
  },
  {
   "cell_type": "markdown",
   "metadata": {},
   "source": [
    "After calculating ther percentages, there is no a big difference between pitchers sides, except for `inPlay` balls. The right-handed pitchers throw about _18%_ in-play balls whereas the left-handers throw about _15.8%_. Since we do not know the results of these pitches, it is hard to tell which side is more efficient in getting out's. The rest of the stats are very similar between sides."
   ]
  },
  {
   "cell_type": "markdown",
   "metadata": {},
   "source": [
    "#### Further Improvements\n",
    "\n",
    "Since the given data focuses mostly on the pitches data, it is difficult to determine the true quality and impact (types of outs, strike-ball ratio, stolen base prevention, etc.) of the catcher. If these records are given, it will be easier to analyze the player's effective value to the team, and how he would compare to the current catchers we have."
   ]
  }
 ],
 "metadata": {
  "kernelspec": {
   "display_name": "Python 3",
   "language": "python",
   "name": "python3"
  },
  "language_info": {
   "codemirror_mode": {
    "name": "ipython",
    "version": 3
   },
   "file_extension": ".py",
   "mimetype": "text/x-python",
   "name": "python",
   "nbconvert_exporter": "python",
   "pygments_lexer": "ipython3",
   "version": "3.7.3"
  }
 },
 "nbformat": 4,
 "nbformat_minor": 2
}
