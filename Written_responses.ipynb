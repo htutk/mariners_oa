{
 "cells": [
  {
   "cell_type": "markdown",
   "metadata": {},
   "source": [
    "## Written Responses"
   ]
  },
  {
   "cell_type": "markdown",
   "metadata": {},
   "source": [
    "##### 1) What is a recent (within the past one to two years) mistake the Mariners organization has made, and why do you consider it a mistake?"
   ]
  },
  {
   "cell_type": "markdown",
   "metadata": {},
   "source": [
    "For the record, I have to say I like most of the moves Mariners have made as an organization since Jerry Depoto's arrival. He has been superactive acquiring new faces and working out great trades. I believe the team is heading towards a great future under his leadership.\n",
    "\n",
    "That being said, one of the things I did not agree was letting the new, young talents play very late in the regular season. Players like J.P. Crowford played for the second half of the season, and he has been lights out. For other prospects like Kyle Lewis, Justin Dunn only made cameo-appearances in September.\n",
    "\n",
    "These top prospects will no doubt appear in some games in 2020. We all knew the team was in rebuilding process in 2019, and were out of contention for playoff race near the all-stars break. So, the question is why don't these young talents appear much earlier in the season to gain more experience in the big league? They will surely have more exposure coming into 2020 and be more ready if needed. Scott Servais had a chance to develop more young talents early on and it seems like he did not take the opportunity.\n",
    "\n",
    "To be fair, I am just a devoted fan who just wants his team to succeed. I can't wait to see our hot start repeated next season!"
   ]
  },
  {
   "cell_type": "markdown",
   "metadata": {},
   "source": [
    "##### 2) Propose a rule change MLB could make that would make baseball more fun."
   ]
  },
  {
   "cell_type": "markdown",
   "metadata": {},
   "source": [
    "In terms of pure rule change, I propose to make all the playoffs series best-of-7. Especially, the wild card games being BO1 is ridiculous in my honest opinion. Teams fought well and hard for the two wild card spots in the later part of the regular season. Yet, one game, one mistake and their season run is over. It should not be like this. The teams already play 162 games a year, a few more games to decide the winner will only excite more fans.\n",
    "\n",
    "Another controversial issue to fix is the strike zone (not sure if this counts as a rule change, so I gave this as optional). The umpires have been inconsistent and not too reliable recently and many fans are wondering when they can be replaced by laser-focused machines. Robot umpires could definitely improve the quality of pitches and reduce the amount of controversies."
   ]
  }
 ],
 "metadata": {
  "kernelspec": {
   "display_name": "Python 3",
   "language": "python",
   "name": "python3"
  },
  "language_info": {
   "codemirror_mode": {
    "name": "ipython",
    "version": 3
   },
   "file_extension": ".py",
   "mimetype": "text/x-python",
   "name": "python",
   "nbconvert_exporter": "python",
   "pygments_lexer": "ipython3",
   "version": "3.7.3"
  }
 },
 "nbformat": 4,
 "nbformat_minor": 2
}
